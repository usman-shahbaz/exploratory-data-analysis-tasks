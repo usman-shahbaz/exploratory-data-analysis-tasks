{
  "nbformat": 4,
  "nbformat_minor": 0,
  "metadata": {
    "colab": {
      "provenance": [],
      "authorship_tag": "ABX9TyNCVyI+0EbbgEHY48n1ay8a",
      "include_colab_link": true
    },
    "kernelspec": {
      "name": "python3",
      "display_name": "Python 3"
    },
    "language_info": {
      "name": "python"
    }
  },
  "cells": [
    {
      "cell_type": "markdown",
      "metadata": {
        "id": "view-in-github",
        "colab_type": "text"
      },
      "source": [
        "<a href=\"https://colab.research.google.com/github/usman-shahbaz/exploratory-data-analysis-tasks/blob/main/Exploratory_Data_Analysis_Task_Week2.ipynb\" target=\"_parent\"><img src=\"https://colab.research.google.com/assets/colab-badge.svg\" alt=\"Open In Colab\"/></a>"
      ]
    },
    {
      "cell_type": "code",
      "execution_count": 2,
      "metadata": {
        "id": "1fgWqoQR5wFJ"
      },
      "outputs": [],
      "source": [
        "import pandas as pd"
      ]
    },
    {
      "cell_type": "markdown",
      "source": [
        "# 1. Writer pandas series code to get following output without using dictionary:"
      ],
      "metadata": {
        "id": "NjdR9SRxOP0K"
      }
    },
    {
      "cell_type": "code",
      "source": [
        "\n",
        "# Define the values and index labels\n",
        "data = [1, 4, 9, 6, 7]\n",
        "index_labels = ['a', 'x', 'c', '2', 'e']\n",
        "\n",
        "# Create the Pandas Series\n",
        "series = pd.Series(data, index=index_labels)\n",
        "\n",
        "print(series)\n"
      ],
      "metadata": {
        "colab": {
          "base_uri": "https://localhost:8080/"
        },
        "id": "LxtxVnAwOdiJ",
        "outputId": "71926ee4-d1a7-4160-e755-f372af6f993a"
      },
      "execution_count": 14,
      "outputs": [
        {
          "output_type": "stream",
          "name": "stdout",
          "text": [
            "a    1\n",
            "x    4\n",
            "c    9\n",
            "2    6\n",
            "e    7\n",
            "dtype: int64\n"
          ]
        }
      ]
    },
    {
      "cell_type": "markdown",
      "source": [
        "#2. Writer pandas series code to get following output using dictionary:"
      ],
      "metadata": {
        "id": "yi3G416fOtsO"
      }
    },
    {
      "cell_type": "code",
      "source": [
        "\n",
        "# Define the dictionary with names as keys and corresponding values\n",
        "data_dict = {'Bilal': 42, 'Ayesha': 38, 'Hadia': 39}\n",
        "\n",
        "# Create the Pandas Series from the dictionary\n",
        "series = pd.Series(data_dict)\n",
        "\n",
        "print(series)\n"
      ],
      "metadata": {
        "colab": {
          "base_uri": "https://localhost:8080/"
        },
        "id": "qZJziTarO2R7",
        "outputId": "eb593414-1cc1-478d-e318-5262a04c9e44"
      },
      "execution_count": 15,
      "outputs": [
        {
          "output_type": "stream",
          "name": "stdout",
          "text": [
            "Bilal     42\n",
            "Ayesha    38\n",
            "Hadia     39\n",
            "dtype: int64\n"
          ]
        }
      ]
    },
    {
      "cell_type": "markdown",
      "source": [
        "#3. Write pandas dataframe code to get following output using python dictionary:"
      ],
      "metadata": {
        "id": "TllWQGbzPGFv"
      }
    },
    {
      "cell_type": "code",
      "source": [
        "\n",
        "# Define the data dictionary\n",
        "data = {\n",
        "    'day': ['1/1/2017', '1/2/2017', '1/3/2017', '1/4/2017', '1/5/2017', '1/6/2017'],\n",
        "    'temperature': [32, 35, 28, 24, 32, 31],\n",
        "    'windspeed': [6, 7, 2, 7, 4, 2],\n",
        "    'event': ['Rain', 'Sunny', 'Snow', 'Snow', 'Rain', 'sunny']\n",
        "}\n",
        "\n",
        "# Create the pandas DataFrame\n",
        "df = pd.DataFrame(data)\n",
        "\n",
        "print(df)\n"
      ],
      "metadata": {
        "colab": {
          "base_uri": "https://localhost:8080/"
        },
        "id": "4GOTfATnPvge",
        "outputId": "e6491001-7585-4a21-a1b4-50de77d07f21"
      },
      "execution_count": 11,
      "outputs": [
        {
          "output_type": "stream",
          "name": "stdout",
          "text": [
            "        day  temperature  windspeed  event\n",
            "0  1/1/2017           32          6   Rain\n",
            "1  1/2/2017           35          7  Sunny\n",
            "2  1/3/2017           28          2   Snow\n",
            "3  1/4/2017           24          7   Snow\n",
            "4  1/5/2017           32          4   Rain\n",
            "5  1/6/2017           31          2  sunny\n"
          ]
        }
      ]
    },
    {
      "cell_type": "markdown",
      "source": [
        "#4. : In extension to above question, you are required to replace index by ['a','b','c','d','e','f']"
      ],
      "metadata": {
        "id": "WWn-an6iQNRg"
      }
    },
    {
      "cell_type": "code",
      "source": [
        "\n",
        "# Set the index labels\n",
        "df.index = ['a', 'b', 'c', 'd', 'e', 'f']\n",
        "\n",
        "# Display the DataFrame with the new index\n",
        "print(df)\n"
      ],
      "metadata": {
        "colab": {
          "base_uri": "https://localhost:8080/"
        },
        "id": "efZxBN1pQXLL",
        "outputId": "62111dcc-28d3-448b-fc18-395450a4e8fa"
      },
      "execution_count": 12,
      "outputs": [
        {
          "output_type": "stream",
          "name": "stdout",
          "text": [
            "        day  temperature  windspeed  event\n",
            "a  1/1/2017           32          6   Rain\n",
            "b  1/2/2017           35          7  Sunny\n",
            "c  1/3/2017           28          2   Snow\n",
            "d  1/4/2017           24          7   Snow\n",
            "e  1/5/2017           32          4   Rain\n",
            "f  1/6/2017           31          2  sunny\n"
          ]
        }
      ]
    },
    {
      "cell_type": "markdown",
      "source": [
        "#5. In extension to above Q.3, calculate mean, miximum and minimum for label “temperature”:"
      ],
      "metadata": {
        "id": "K50ocPNvQa7_"
      }
    },
    {
      "cell_type": "code",
      "source": [
        "\n",
        "# Calculate mean, maximum, and minimum for the label \"temperature\"\n",
        "mean_temperature = df['temperature'].mean()\n",
        "max_temperature = df['temperature'].max()\n",
        "min_temperature = df['temperature'].min()\n",
        "\n",
        "# Display the results\n",
        "print(\"Mean temperature:\", mean_temperature)\n",
        "print(\"Maximum temperature:\", max_temperature)\n",
        "print(\"Minimum temperature:\", min_temperature)\n"
      ],
      "metadata": {
        "colab": {
          "base_uri": "https://localhost:8080/"
        },
        "id": "r01Zz6ZYQgw4",
        "outputId": "7733b6e1-f2dc-4ac6-f7d9-913b2527b60e"
      },
      "execution_count": 13,
      "outputs": [
        {
          "output_type": "stream",
          "name": "stdout",
          "text": [
            "Mean temperature: 30.333333333333332\n",
            "Maximum temperature: 35\n",
            "Minimum temperature: 24\n"
          ]
        }
      ]
    },
    {
      "cell_type": "markdown",
      "source": [
        "#6. Import CSV ‘people.csv’ in the given folder. Keep in mind the following instructions:"
      ],
      "metadata": {
        "id": "gwEhQ154SLsP"
      }
    },
    {
      "cell_type": "code",
      "source": [
        "\n",
        "# Read the CSV file 'people.csv' and import specific columns\n",
        "columns_to_import = [\"First Name\", \"Sex\", \"Email\", \"Phone\", \"Job Title\"]\n",
        "df = pd.read_csv('people.csv', usecols=columns_to_import, skiprows=[1, 5])\n",
        "\n",
        "df.info()\n",
        "\n",
        "# Set columns 'Sex' and 'Job Title' as index columns\n",
        "df.set_index([\"Sex\", \"Job Title\"], inplace=True)\n",
        "\n",
        "# Export the CSV as “NewPeople.csv”\n",
        "df.to_csv('NewPeople.csv')\n"
      ],
      "metadata": {
        "colab": {
          "base_uri": "https://localhost:8080/"
        },
        "id": "sdoby5QN8yNl",
        "outputId": "023d0c6c-6ac2-42af-f069-659c3e5b874e"
      },
      "execution_count": 19,
      "outputs": [
        {
          "output_type": "stream",
          "name": "stdout",
          "text": [
            "<class 'pandas.core.frame.DataFrame'>\n",
            "RangeIndex: 98 entries, 0 to 97\n",
            "Data columns (total 5 columns):\n",
            " #   Column      Non-Null Count  Dtype \n",
            "---  ------      --------------  ----- \n",
            " 0   First Name  98 non-null     object\n",
            " 1   Sex         98 non-null     object\n",
            " 2   Email       98 non-null     object\n",
            " 3   Phone       98 non-null     object\n",
            " 4   Job Title   98 non-null     object\n",
            "dtypes: object(5)\n",
            "memory usage: 4.0+ KB\n"
          ]
        }
      ]
    },
    {
      "cell_type": "markdown",
      "source": [
        "# 7. Import excel sheet ‘SampleWork.xlsx’ in the given folder. Keep in mind the following instructions:"
      ],
      "metadata": {
        "id": "Gp_us0EDKfkL"
      }
    },
    {
      "cell_type": "code",
      "source": [
        "\n",
        "# Import sheet 1\n",
        "df = pd.read_excel('SampleWork.xlsx', sheet_name=0, header=None, skiprows=1)\n",
        "\n",
        "# Keep only the first and last columns\n",
        "df = df.iloc[:, [0, -1]]\n",
        "\n",
        "# Set row 2 as header\n",
        "df.columns = df.iloc[0]\n",
        "\n",
        "# Skip row 2 while importing the sheet\n",
        "df = df[1:]\n",
        "\n",
        "# export as new sheet\n",
        "df.to_excel('NewSheet.xlsx', index=False)\n"
      ],
      "metadata": {
        "id": "JZFl_-kZS66C"
      },
      "execution_count": 23,
      "outputs": []
    },
    {
      "cell_type": "markdown",
      "source": [
        "#8. Create the following dataframe as AICP_DF then implement different operations as described below:"
      ],
      "metadata": {
        "id": "oWrinhlcTHsk"
      }
    },
    {
      "cell_type": "code",
      "source": [
        "\n",
        "# Create the DataFrame AICP_DF\n",
        "data = {\n",
        "    'Name': ['Sonia', 'Bilal', 'Hifza', 'Kabir', 'Jazim'],\n",
        "    'Age': [27, 24, 22, 32, 23],\n",
        "    'Address': ['Lahore', 'Karachi', 'Sialkot', 'Peshawar', 'lhr'],\n",
        "    'Qualification': ['MSC', 'MA', 'MCA', 'PhD', 'Bsc']\n",
        "}\n",
        "\n",
        "AICP_DF = pd.DataFrame(data)\n",
        "\n",
        "# select 'Name', 'Qualification' coloumns and save to df1\n",
        "df1 = AICP_DF[['Name', 'Qualification']]\n",
        "\n",
        "# Add a new column \"Height\" to AICP_DF\n",
        "AICP_DF['Height'] = [5.1, 6.2, 5.1, 5.2, 5.1]\n",
        "\n",
        "# Set column \"Name\" as the index column\n",
        "AICP_DF.set_index('Name', inplace=True)\n",
        "\n",
        "# Retrieve row with index \"Hifza\"\n",
        "row_hifza = AICP_DF.loc['Hifza']\n",
        "\n",
        "# Retrieve row with index 3\n",
        "row_3 = AICP_DF.iloc[2]\n",
        "\n",
        "# Drop row with index \"Bilal\"\n",
        "AICP_DF.drop('Bilal', inplace=True)\n",
        "\n",
        "# Display the DataFrames and results\n",
        "print(\"AICP_DF:\")\n",
        "print(AICP_DF)"
      ],
      "metadata": {
        "colab": {
          "base_uri": "https://localhost:8080/"
        },
        "id": "9WO5w2apLT4R",
        "outputId": "63f046be-79e1-4470-8927-f9ee03f8b4dd"
      },
      "execution_count": 10,
      "outputs": [
        {
          "output_type": "stream",
          "name": "stdout",
          "text": [
            "AICP_DF:\n",
            "       Age   Address Qualification  Height\n",
            "Name                                      \n",
            "Sonia   27    Lahore           MSC     5.1\n",
            "Hifza   22   Sialkot           MCA     5.1\n",
            "Kabir   32  Peshawar           PhD     5.2\n",
            "Jazim   23       lhr           Bsc     5.1\n"
          ]
        }
      ]
    }
  ]
}