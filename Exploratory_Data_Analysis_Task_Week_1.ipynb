{
  "nbformat": 4,
  "nbformat_minor": 0,
  "metadata": {
    "colab": {
      "provenance": [],
      "mount_file_id": "1OK_vM7tiW1JrYIdJ947JzyKqMrJsWMYe",
      "authorship_tag": "ABX9TyMJIPwRLJziPkEp/+uj1GN6"
    },
    "kernelspec": {
      "name": "python3",
      "display_name": "Python 3"
    },
    "language_info": {
      "name": "python"
    }
  },
  "cells": [
    {
      "cell_type": "code",
      "execution_count": 1,
      "metadata": {
        "id": "kK5T5fefSlLW"
      },
      "outputs": [],
      "source": [
        "import numpy as np\n"
      ]
    },
    {
      "cell_type": "markdown",
      "source": [
        "## 1. Write a NumPy program to create an array of all even integers from 30 to 70."
      ],
      "metadata": {
        "id": "UlSI7Dqq7cH-"
      }
    },
    {
      "cell_type": "code",
      "source": [
        "\n",
        "# Create an array of given even integers\n",
        "integers_array = np.arange(30, 71, 2)\n",
        "\n",
        "print(\"Array of give integers:\", integers_array)\n"
      ],
      "metadata": {
        "colab": {
          "base_uri": "https://localhost:8080/"
        },
        "id": "6M35Eb0ak6FA",
        "outputId": "22e4f3f8-54af-459c-ef7c-63bd961b9471"
      },
      "execution_count": 12,
      "outputs": [
        {
          "output_type": "stream",
          "name": "stdout",
          "text": [
            "Array of give integers: [30 32 34 36 38 40 42 44 46 48 50 52 54 56 58 60 62 64 66 68 70]\n"
          ]
        }
      ]
    },
    {
      "cell_type": "markdown",
      "source": [
        "## 2. Write a NumPy program to generate an array of 15 random numbers from a standard normal distribution."
      ],
      "metadata": {
        "id": "NHPJsjSF01MC"
      }
    },
    {
      "cell_type": "code",
      "source": [
        "\n",
        "# Create an array of 15 random numbers from a standard normal distribution\n",
        "random_numbers = np.random.randn(15)\n",
        "\n",
        "print(\"Array of random numbers from a standard normal distribution:\", random_numbers)\n"
      ],
      "metadata": {
        "colab": {
          "base_uri": "https://localhost:8080/"
        },
        "id": "TDlczJz-04Mc",
        "outputId": "e117b274-99fa-4950-ed75-fd9e3b233bbb"
      },
      "execution_count": 13,
      "outputs": [
        {
          "output_type": "stream",
          "name": "stdout",
          "text": [
            "Array of random numbers from a standard normal distribution: [ 1.04686202  1.19116094  0.10966888 -1.93099993  0.05827169  0.49594487\n",
            " -1.41716297 -1.60779924 -0.32341828 -0.09406603 -0.8786472  -1.01919434\n",
            " -0.40924005 -1.3539481   0.77814314]\n"
          ]
        }
      ]
    },
    {
      "cell_type": "markdown",
      "source": [
        "## 3. How to compute the cross-product of two matrices in NumPy."
      ],
      "metadata": {
        "id": "-tb-f_Y67yHj"
      }
    },
    {
      "cell_type": "code",
      "source": [
        "\n",
        "# Define two vectors\n",
        "vector1 = np.array([8, 1, 5])\n",
        "vector2 = np.array([7, 4, 2])\n",
        "\n",
        "# Compute the cross-product\n",
        "cross_product = np.cross(vector1, vector2)\n",
        "\n",
        "print(\"Cross-product of the vectors:\", cross_product)\n"
      ],
      "metadata": {
        "colab": {
          "base_uri": "https://localhost:8080/"
        },
        "id": "FwSZy8Ar7wq0",
        "outputId": "37468b32-7d36-41e0-b48a-767c2adb696c"
      },
      "execution_count": 9,
      "outputs": [
        {
          "output_type": "stream",
          "name": "stdout",
          "text": [
            "Cross-product of the vectors: [-18  19  25]\n"
          ]
        }
      ]
    },
    {
      "cell_type": "markdown",
      "source": [
        "## 4. How to compute the determinant of an array using NumPy."
      ],
      "metadata": {
        "id": "UjSIDgrq4fSU"
      }
    },
    {
      "cell_type": "code",
      "source": [
        "\n",
        "# Create an array\n",
        "given_array = np.array([[5, 9], [3, 8]])\n",
        "\n",
        "# Compute the determinant\n",
        "determinant = np.linalg.det(given_array)\n",
        "\n",
        "print(\"Determinant of the array:\", determinant)\n"
      ],
      "metadata": {
        "colab": {
          "base_uri": "https://localhost:8080/"
        },
        "id": "8RJS2Gq84isb",
        "outputId": "e3ce256f-8fdf-4734-8db9-1cd2a4fc1662"
      },
      "execution_count": 10,
      "outputs": [
        {
          "output_type": "stream",
          "name": "stdout",
          "text": [
            "Determinant of the array: 12.999999999999995\n"
          ]
        }
      ]
    },
    {
      "cell_type": "markdown",
      "source": [
        "## 5. How to create a 3x3x3 array with random values using NumPy."
      ],
      "metadata": {
        "id": "0Vy7ZlPY4o7m"
      }
    },
    {
      "cell_type": "code",
      "source": [
        "\n",
        "# Create an array with random values\n",
        "random_array = np.random.rand(3, 3, 3)\n",
        "\n",
        "print(\"Array of 3x3x3:\", random_array)\n"
      ],
      "metadata": {
        "colab": {
          "base_uri": "https://localhost:8080/"
        },
        "id": "hdFZAD9n4sNA",
        "outputId": "44f58641-78d7-4199-a18e-353d2767e3b4"
      },
      "execution_count": 6,
      "outputs": [
        {
          "output_type": "stream",
          "name": "stdout",
          "text": [
            "Array of 3x3x3: [[[0.25463334 0.91921953 0.76530183]\n",
            "  [0.80234395 0.40282816 0.65670204]\n",
            "  [0.65671659 0.21741402 0.57169279]]\n",
            "\n",
            " [[0.29968378 0.93644983 0.41801225]\n",
            "  [0.81004886 0.86859185 0.62539802]\n",
            "  [0.19532147 0.26080229 0.40937046]]\n",
            "\n",
            " [[0.85091258 0.25770439 0.08049878]\n",
            "  [0.327745   0.62792704 0.94203493]\n",
            "  [0.49011613 0.62894091 0.3357466 ]]]\n"
          ]
        }
      ]
    },
    {
      "cell_type": "markdown",
      "source": [
        "## 6. How to create a 5x5 array with random values and find the minimum and maximum values using NumPy."
      ],
      "metadata": {
        "id": "AkgwXSGh58Py"
      }
    },
    {
      "cell_type": "code",
      "source": [
        "\n",
        "# Create an array with random values\n",
        "random_array = np.random.rand(5, 5)\n",
        "print(\"Array of 5x5:\", random_array)\n",
        "\n",
        "# Find the minimum values in the array\n",
        "min_value = np.min(random_array)\n",
        "print(\"Minimum value:\", min_value)\n",
        "\n",
        "# Find the maximum values in the array\n",
        "max_value = np.max(random_array)\n",
        "print(\"Maximum value:\", max_value)\n"
      ],
      "metadata": {
        "colab": {
          "base_uri": "https://localhost:8080/"
        },
        "id": "nx58PiPE6Fql",
        "outputId": "479e84a3-3cc5-4f07-a765-6e7fc2603c42"
      },
      "execution_count": 7,
      "outputs": [
        {
          "output_type": "stream",
          "name": "stdout",
          "text": [
            "Array of 5x5: [[0.89074965 0.19909491 0.19573659 0.08697397 0.07892454]\n",
            " [0.59815338 0.20422169 0.77782779 0.49130073 0.32742683]\n",
            " [0.22721645 0.2798946  0.48507825 0.30134428 0.77596523]\n",
            " [0.21728982 0.24675068 0.12054336 0.1096231  0.03808792]\n",
            " [0.27275423 0.2027374  0.05268472 0.73158458 0.20869213]]\n",
            "Minimum value: 0.03808792265227412\n",
            "Maximum value: 0.8907496523046061\n"
          ]
        }
      ]
    },
    {
      "cell_type": "markdown",
      "source": [
        "## 7. How to compute the mean, standard deviation, and variance of a given array along the second axis in NumPy."
      ],
      "metadata": {
        "id": "Y0HlXDsY64X9"
      }
    },
    {
      "cell_type": "code",
      "source": [
        "\n",
        "given_array = np.array([[1, 2, 3], [4, 5, 6]])\n",
        "\n",
        "# Compute the mean along the second axis\n",
        "mean_of_array = np.mean(given_array, axis=1)\n",
        "print(\"Mean along the second axis:\", mean_of_array)\n",
        "\n",
        "# Compute the standard deviation along the second axis\n",
        "stdeviation_of_array = np.std(given_array, axis=1)\n",
        "print(\"Standard deviation along the second axis:\", stdeviation_of_array)\n",
        "\n",
        "# Compute the variance along the second axis\n",
        "variance_of_array = np.var(given_array, axis=1)\n",
        "print(\"Variance along the second axis:\", variance_of_array)\n"
      ],
      "metadata": {
        "colab": {
          "base_uri": "https://localhost:8080/"
        },
        "id": "SxS6VgQ56_zC",
        "outputId": "95b60856-9d56-43c5-f73d-cf4d3ed5330d"
      },
      "execution_count": 14,
      "outputs": [
        {
          "output_type": "stream",
          "name": "stdout",
          "text": [
            "Mean along the second axis: [2. 5.]\n",
            "Standard deviation along the second axis: [0.81649658 0.81649658]\n",
            "Variance along the second axis: [0.66666667 0.66666667]\n"
          ]
        }
      ]
    }
  ]
}